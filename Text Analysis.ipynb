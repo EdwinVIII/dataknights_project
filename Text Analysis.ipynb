{
 "cells": [
  {
   "cell_type": "code",
   "execution_count": 23,
   "metadata": {},
   "outputs": [],
   "source": [
    "import pandas as pd\n",
    "import numpy as np\n",
    "import matplotlib.pyplot as plt\n",
    "import seaborn as sns\n",
    "import nltk"
   ]
  },
  {
   "cell_type": "code",
   "execution_count": 24,
   "metadata": {},
   "outputs": [
    {
     "name": "stderr",
     "output_type": "stream",
     "text": [
      "/usr/local/lib/python3.8/site-packages/IPython/core/interactiveshell.py:3071: DtypeWarning: Columns (2,3,6,7,8,9,10,11,12,13,14,15,16,17,18) have mixed types.Specify dtype option on import or set low_memory=False.\n",
      "  has_raised = await self.run_ast_nodes(code_ast.body, cell_name,\n",
      "/usr/local/lib/python3.8/site-packages/IPython/core/interactiveshell.py:3071: DtypeWarning: Columns (0,1,5,6,7,8,10,11,12,13,14,15,16,17,21,22,24,25,26,27) have mixed types.Specify dtype option on import or set low_memory=False.\n",
      "  has_raised = await self.run_ast_nodes(code_ast.body, cell_name,\n"
     ]
    }
   ],
   "source": [
    "reviews_df = pd.read_csv(\"GameReviewsFinal.csv\")\n",
    "stats_df = pd.read_csv(\"GameStatsFinal.csv\")"
   ]
  },
  {
   "cell_type": "code",
   "execution_count": 46,
   "metadata": {
    "scrolled": true
   },
   "outputs": [
    {
     "data": {
      "text/plain": [
       "(302593, 19)"
      ]
     },
     "execution_count": 46,
     "metadata": {},
     "output_type": "execute_result"
    }
   ],
   "source": [
    "reviews_df.head(10)\n",
    "reviews_df.shape\n",
    "\n",
    "# First two columns look like indexes so I'll be removing them\n",
    "# Also, dont think we need recommendation id\n",
    "# author may be useful but not sure currently so removing it\n",
    "# leaving the other columns"
   ]
  },
  {
   "cell_type": "code",
   "execution_count": 44,
   "metadata": {
    "scrolled": true
   },
   "outputs": [
    {
     "data": {
      "text/html": [
       "<div>\n",
       "<style scoped>\n",
       "    .dataframe tbody tr th:only-of-type {\n",
       "        vertical-align: middle;\n",
       "    }\n",
       "\n",
       "    .dataframe tbody tr th {\n",
       "        vertical-align: top;\n",
       "    }\n",
       "\n",
       "    .dataframe thead th {\n",
       "        text-align: right;\n",
       "    }\n",
       "</style>\n",
       "<table border=\"1\" class=\"dataframe\">\n",
       "  <thead>\n",
       "    <tr style=\"text-align: right;\">\n",
       "      <th></th>\n",
       "      <th>language</th>\n",
       "      <th>review</th>\n",
       "      <th>timestamp_created</th>\n",
       "      <th>timestamp_updated</th>\n",
       "      <th>voted_up</th>\n",
       "      <th>votes_up</th>\n",
       "      <th>votes_funny</th>\n",
       "      <th>weighted_vote_score</th>\n",
       "      <th>comment_count</th>\n",
       "      <th>steam_purchase</th>\n",
       "      <th>received_for_free</th>\n",
       "      <th>written_during_early_access</th>\n",
       "      <th>timestamp_dev_responded</th>\n",
       "      <th>developer_response</th>\n",
       "      <th>appid</th>\n",
       "    </tr>\n",
       "  </thead>\n",
       "  <tbody>\n",
       "    <tr>\n",
       "      <th>0</th>\n",
       "      <td>english</td>\n",
       "      <td>Unfortunately, at this price point I was expec...</td>\n",
       "      <td>1572942648</td>\n",
       "      <td>1572942648</td>\n",
       "      <td>False</td>\n",
       "      <td>11</td>\n",
       "      <td>2</td>\n",
       "      <td>0.658271</td>\n",
       "      <td>0</td>\n",
       "      <td>True</td>\n",
       "      <td>False</td>\n",
       "      <td>True</td>\n",
       "      <td>1.60828e+09</td>\n",
       "      <td>This! Completely fair review! Santa's Visit la...</td>\n",
       "      <td>1155810</td>\n",
       "    </tr>\n",
       "    <tr>\n",
       "      <th>1</th>\n",
       "      <td>english</td>\n",
       "      <td>A cute sandbox experience. Fun for the Holiday...</td>\n",
       "      <td>1608896024</td>\n",
       "      <td>1608896024</td>\n",
       "      <td>True</td>\n",
       "      <td>7</td>\n",
       "      <td>0</td>\n",
       "      <td>0.599486</td>\n",
       "      <td>0</td>\n",
       "      <td>True</td>\n",
       "      <td>False</td>\n",
       "      <td>True</td>\n",
       "      <td>NaN</td>\n",
       "      <td>NaN</td>\n",
       "      <td>1155810</td>\n",
       "    </tr>\n",
       "    <tr>\n",
       "      <th>2</th>\n",
       "      <td>english</td>\n",
       "      <td>While its a very short experience it has fanta...</td>\n",
       "      <td>1606426930</td>\n",
       "      <td>1606426930</td>\n",
       "      <td>True</td>\n",
       "      <td>7</td>\n",
       "      <td>0</td>\n",
       "      <td>0.571652</td>\n",
       "      <td>0</td>\n",
       "      <td>True</td>\n",
       "      <td>False</td>\n",
       "      <td>True</td>\n",
       "      <td>NaN</td>\n",
       "      <td>NaN</td>\n",
       "      <td>1155810</td>\n",
       "    </tr>\n",
       "    <tr>\n",
       "      <th>3</th>\n",
       "      <td>english</td>\n",
       "      <td>I got Santa trapped in Purgatory.\\n10/10 holid...</td>\n",
       "      <td>1577329940</td>\n",
       "      <td>1577329940</td>\n",
       "      <td>True</td>\n",
       "      <td>7</td>\n",
       "      <td>1</td>\n",
       "      <td>0.571652</td>\n",
       "      <td>0</td>\n",
       "      <td>True</td>\n",
       "      <td>False</td>\n",
       "      <td>True</td>\n",
       "      <td>NaN</td>\n",
       "      <td>NaN</td>\n",
       "      <td>1155810</td>\n",
       "    </tr>\n",
       "    <tr>\n",
       "      <th>4</th>\n",
       "      <td>english</td>\n",
       "      <td>[h1]Experienced on the Oculus Quest 2[/h1]\\n\\n...</td>\n",
       "      <td>1640408475</td>\n",
       "      <td>1640408475</td>\n",
       "      <td>True</td>\n",
       "      <td>3</td>\n",
       "      <td>1</td>\n",
       "      <td>0.566025</td>\n",
       "      <td>0</td>\n",
       "      <td>True</td>\n",
       "      <td>False</td>\n",
       "      <td>True</td>\n",
       "      <td>NaN</td>\n",
       "      <td>NaN</td>\n",
       "      <td>1155810</td>\n",
       "    </tr>\n",
       "  </tbody>\n",
       "</table>\n",
       "</div>"
      ],
      "text/plain": [
       "  language                                             review  \\\n",
       "0  english  Unfortunately, at this price point I was expec...   \n",
       "1  english  A cute sandbox experience. Fun for the Holiday...   \n",
       "2  english  While its a very short experience it has fanta...   \n",
       "3  english  I got Santa trapped in Purgatory.\\n10/10 holid...   \n",
       "4  english  [h1]Experienced on the Oculus Quest 2[/h1]\\n\\n...   \n",
       "\n",
       "  timestamp_created timestamp_updated voted_up votes_up votes_funny  \\\n",
       "0        1572942648        1572942648    False       11           2   \n",
       "1        1608896024        1608896024     True        7           0   \n",
       "2        1606426930        1606426930     True        7           0   \n",
       "3        1577329940        1577329940     True        7           1   \n",
       "4        1640408475        1640408475     True        3           1   \n",
       "\n",
       "  weighted_vote_score comment_count steam_purchase received_for_free  \\\n",
       "0            0.658271             0           True             False   \n",
       "1            0.599486             0           True             False   \n",
       "2            0.571652             0           True             False   \n",
       "3            0.571652             0           True             False   \n",
       "4            0.566025             0           True             False   \n",
       "\n",
       "  written_during_early_access timestamp_dev_responded  \\\n",
       "0                        True             1.60828e+09   \n",
       "1                        True                     NaN   \n",
       "2                        True                     NaN   \n",
       "3                        True                     NaN   \n",
       "4                        True                     NaN   \n",
       "\n",
       "                                  developer_response    appid  \n",
       "0  This! Completely fair review! Santa's Visit la...  1155810  \n",
       "1                                                NaN  1155810  \n",
       "2                                                NaN  1155810  \n",
       "3                                                NaN  1155810  \n",
       "4                                                NaN  1155810  "
      ]
     },
     "execution_count": 44,
     "metadata": {},
     "output_type": "execute_result"
    }
   ],
   "source": [
    "my_reviews = reviews_df.drop(['Unnamed: 0', 'Unnamed: 0.1', 'recommendationid', 'author'], axis=1)\n",
    "my_reviews.head()"
   ]
  },
  {
   "cell_type": "code",
   "execution_count": 45,
   "metadata": {},
   "outputs": [
    {
     "data": {
      "text/plain": [
       "language                            0\n",
       "review                            140\n",
       "timestamp_created                   0\n",
       "timestamp_updated                   0\n",
       "voted_up                            0\n",
       "votes_up                            0\n",
       "votes_funny                         0\n",
       "weighted_vote_score                 0\n",
       "comment_count                       0\n",
       "steam_purchase                      0\n",
       "received_for_free                   0\n",
       "written_during_early_access         0\n",
       "timestamp_dev_responded         39351\n",
       "developer_response             292175\n",
       "appid                          252824\n",
       "dtype: int64"
      ]
     },
     "execution_count": 45,
     "metadata": {},
     "output_type": "execute_result"
    }
   ],
   "source": [
    "my_reviews.isna().sum()\n",
    "\n",
    "# Out of 302593 total reviews, 252824 are missing the appid column. \n",
    "# We can not use these for more detailed analysis"
   ]
  },
  {
   "cell_type": "code",
   "execution_count": 47,
   "metadata": {},
   "outputs": [],
   "source": [
    "# check for missing reviews and removing them\n",
    "\n",
    "subset = ['review', 'appid']\n",
    "my_reviews.dropna(subset=subset, axis=0, inplace=True)"
   ]
  },
  {
   "cell_type": "code",
   "execution_count": 48,
   "metadata": {},
   "outputs": [],
   "source": [
    "# Converting the review column to string\n",
    "my_reviews['review'] = my_reviews['review'].astype('str')\n",
    "my_reviews['language'] = my_reviews['language'].astype('str')"
   ]
  },
  {
   "cell_type": "code",
   "execution_count": 49,
   "metadata": {
    "scrolled": true
   },
   "outputs": [
    {
     "name": "stdout",
     "output_type": "stream",
     "text": [
      "<class 'pandas.core.frame.DataFrame'>\n",
      "Int64Index: 49745 entries, 0 to 302561\n",
      "Data columns (total 15 columns):\n",
      " #   Column                       Non-Null Count  Dtype \n",
      "---  ------                       --------------  ----- \n",
      " 0   language                     49745 non-null  object\n",
      " 1   review                       49745 non-null  object\n",
      " 2   timestamp_created            49745 non-null  object\n",
      " 3   timestamp_updated            49745 non-null  object\n",
      " 4   voted_up                     49745 non-null  object\n",
      " 5   votes_up                     49745 non-null  object\n",
      " 6   votes_funny                  49745 non-null  object\n",
      " 7   weighted_vote_score          49745 non-null  object\n",
      " 8   comment_count                49745 non-null  object\n",
      " 9   steam_purchase               49745 non-null  object\n",
      " 10  received_for_free            49745 non-null  object\n",
      " 11  written_during_early_access  49745 non-null  object\n",
      " 12  timestamp_dev_responded      10417 non-null  object\n",
      " 13  developer_response           10417 non-null  object\n",
      " 14  appid                        49745 non-null  object\n",
      "dtypes: object(15)\n",
      "memory usage: 6.1+ MB\n"
     ]
    },
    {
     "data": {
      "text/html": [
       "<div>\n",
       "<style scoped>\n",
       "    .dataframe tbody tr th:only-of-type {\n",
       "        vertical-align: middle;\n",
       "    }\n",
       "\n",
       "    .dataframe tbody tr th {\n",
       "        vertical-align: top;\n",
       "    }\n",
       "\n",
       "    .dataframe thead th {\n",
       "        text-align: right;\n",
       "    }\n",
       "</style>\n",
       "<table border=\"1\" class=\"dataframe\">\n",
       "  <thead>\n",
       "    <tr style=\"text-align: right;\">\n",
       "      <th></th>\n",
       "      <th>language</th>\n",
       "      <th>review</th>\n",
       "      <th>timestamp_created</th>\n",
       "      <th>timestamp_updated</th>\n",
       "      <th>voted_up</th>\n",
       "      <th>votes_up</th>\n",
       "      <th>votes_funny</th>\n",
       "      <th>weighted_vote_score</th>\n",
       "      <th>comment_count</th>\n",
       "      <th>steam_purchase</th>\n",
       "      <th>received_for_free</th>\n",
       "      <th>written_during_early_access</th>\n",
       "      <th>timestamp_dev_responded</th>\n",
       "      <th>developer_response</th>\n",
       "      <th>appid</th>\n",
       "    </tr>\n",
       "  </thead>\n",
       "  <tbody>\n",
       "    <tr>\n",
       "      <th>0</th>\n",
       "      <td>english</td>\n",
       "      <td>Unfortunately, at this price point I was expec...</td>\n",
       "      <td>1572942648</td>\n",
       "      <td>1572942648</td>\n",
       "      <td>False</td>\n",
       "      <td>11</td>\n",
       "      <td>2</td>\n",
       "      <td>0.658271</td>\n",
       "      <td>0</td>\n",
       "      <td>True</td>\n",
       "      <td>False</td>\n",
       "      <td>True</td>\n",
       "      <td>1.60828e+09</td>\n",
       "      <td>This! Completely fair review! Santa's Visit la...</td>\n",
       "      <td>1155810</td>\n",
       "    </tr>\n",
       "    <tr>\n",
       "      <th>1</th>\n",
       "      <td>english</td>\n",
       "      <td>A cute sandbox experience. Fun for the Holiday...</td>\n",
       "      <td>1608896024</td>\n",
       "      <td>1608896024</td>\n",
       "      <td>True</td>\n",
       "      <td>7</td>\n",
       "      <td>0</td>\n",
       "      <td>0.599486</td>\n",
       "      <td>0</td>\n",
       "      <td>True</td>\n",
       "      <td>False</td>\n",
       "      <td>True</td>\n",
       "      <td>NaN</td>\n",
       "      <td>NaN</td>\n",
       "      <td>1155810</td>\n",
       "    </tr>\n",
       "    <tr>\n",
       "      <th>2</th>\n",
       "      <td>english</td>\n",
       "      <td>While its a very short experience it has fanta...</td>\n",
       "      <td>1606426930</td>\n",
       "      <td>1606426930</td>\n",
       "      <td>True</td>\n",
       "      <td>7</td>\n",
       "      <td>0</td>\n",
       "      <td>0.571652</td>\n",
       "      <td>0</td>\n",
       "      <td>True</td>\n",
       "      <td>False</td>\n",
       "      <td>True</td>\n",
       "      <td>NaN</td>\n",
       "      <td>NaN</td>\n",
       "      <td>1155810</td>\n",
       "    </tr>\n",
       "    <tr>\n",
       "      <th>3</th>\n",
       "      <td>english</td>\n",
       "      <td>I got Santa trapped in Purgatory.\\n10/10 holid...</td>\n",
       "      <td>1577329940</td>\n",
       "      <td>1577329940</td>\n",
       "      <td>True</td>\n",
       "      <td>7</td>\n",
       "      <td>1</td>\n",
       "      <td>0.571652</td>\n",
       "      <td>0</td>\n",
       "      <td>True</td>\n",
       "      <td>False</td>\n",
       "      <td>True</td>\n",
       "      <td>NaN</td>\n",
       "      <td>NaN</td>\n",
       "      <td>1155810</td>\n",
       "    </tr>\n",
       "    <tr>\n",
       "      <th>4</th>\n",
       "      <td>english</td>\n",
       "      <td>[h1]Experienced on the Oculus Quest 2[/h1]\\n\\n...</td>\n",
       "      <td>1640408475</td>\n",
       "      <td>1640408475</td>\n",
       "      <td>True</td>\n",
       "      <td>3</td>\n",
       "      <td>1</td>\n",
       "      <td>0.566025</td>\n",
       "      <td>0</td>\n",
       "      <td>True</td>\n",
       "      <td>False</td>\n",
       "      <td>True</td>\n",
       "      <td>NaN</td>\n",
       "      <td>NaN</td>\n",
       "      <td>1155810</td>\n",
       "    </tr>\n",
       "  </tbody>\n",
       "</table>\n",
       "</div>"
      ],
      "text/plain": [
       "  language                                             review  \\\n",
       "0  english  Unfortunately, at this price point I was expec...   \n",
       "1  english  A cute sandbox experience. Fun for the Holiday...   \n",
       "2  english  While its a very short experience it has fanta...   \n",
       "3  english  I got Santa trapped in Purgatory.\\n10/10 holid...   \n",
       "4  english  [h1]Experienced on the Oculus Quest 2[/h1]\\n\\n...   \n",
       "\n",
       "  timestamp_created timestamp_updated voted_up votes_up votes_funny  \\\n",
       "0        1572942648        1572942648    False       11           2   \n",
       "1        1608896024        1608896024     True        7           0   \n",
       "2        1606426930        1606426930     True        7           0   \n",
       "3        1577329940        1577329940     True        7           1   \n",
       "4        1640408475        1640408475     True        3           1   \n",
       "\n",
       "  weighted_vote_score comment_count steam_purchase received_for_free  \\\n",
       "0            0.658271             0           True             False   \n",
       "1            0.599486             0           True             False   \n",
       "2            0.571652             0           True             False   \n",
       "3            0.571652             0           True             False   \n",
       "4            0.566025             0           True             False   \n",
       "\n",
       "  written_during_early_access timestamp_dev_responded  \\\n",
       "0                        True             1.60828e+09   \n",
       "1                        True                     NaN   \n",
       "2                        True                     NaN   \n",
       "3                        True                     NaN   \n",
       "4                        True                     NaN   \n",
       "\n",
       "                                  developer_response    appid  \n",
       "0  This! Completely fair review! Santa's Visit la...  1155810  \n",
       "1                                                NaN  1155810  \n",
       "2                                                NaN  1155810  \n",
       "3                                                NaN  1155810  \n",
       "4                                                NaN  1155810  "
      ]
     },
     "execution_count": 49,
     "metadata": {},
     "output_type": "execute_result"
    }
   ],
   "source": [
    "my_reviews.info()\n",
    "my_reviews.head()"
   ]
  },
  {
   "cell_type": "code",
   "execution_count": 33,
   "metadata": {
    "scrolled": true
   },
   "outputs": [],
   "source": [
    "# stats_df.head(10)"
   ]
  },
  {
   "cell_type": "code",
   "execution_count": null,
   "metadata": {},
   "outputs": [],
   "source": [
    "review_length = my_reviews['review'].str.len()\n",
    "print(my_reviews.mean())\n",
    "print(my_reviews.std())\n",
    "print(my_reviews.max())\n",
    "print(my_reviews.min())"
   ]
  },
  {
   "cell_type": "code",
   "execution_count": null,
   "metadata": {},
   "outputs": [],
   "source": [
    "# Strings with length 1 don't make any sense. Lets check some strings with length less than 10\n",
    "\n",
    "# First I'll add review_length as a column\n",
    "my_reviews['review_length'] = review_length\n"
   ]
  },
  {
   "cell_type": "code",
   "execution_count": null,
   "metadata": {},
   "outputs": [],
   "source": []
  },
  {
   "cell_type": "code",
   "execution_count": 41,
   "metadata": {},
   "outputs": [],
   "source": [
    "from textblob import TextBlob\n",
    "from sklearn.feature_extraction.text import CountVectorizer, TfidfVectorizer, ENGLISH_STOP_WORDS"
   ]
  },
  {
   "cell_type": "code",
   "execution_count": 43,
   "metadata": {},
   "outputs": [],
   "source": [
    "my_pattern = r'\\b[^\\d\\W][^\\d\\W]+\\b'\n",
    "vectorizer = TfidfVectorizer(ngram_range=(1, 2), max_features=50, token_pattern=my_pattern, stop_words=ENGLISH_STOP_WORDS)\\\n",
    ".fit(reviews_df.review.values.astype('str'))"
   ]
  },
  {
   "cell_type": "code",
   "execution_count": 8,
   "metadata": {},
   "outputs": [],
   "source": [
    "X_txt = vectorizer.transform(reviews_df.review.values.astype('str'))"
   ]
  },
  {
   "cell_type": "code",
   "execution_count": 9,
   "metadata": {},
   "outputs": [
    {
     "name": "stdout",
     "output_type": "stream",
     "text": [
      "Top 5 rows of the DataFrame:          bad  better       bit  character  different  don  easy  feel  \\\n",
      "0  0.000000     0.0  0.000000        0.0        0.0  0.0   0.0   0.0   \n",
      "1  0.000000     0.0  0.467513        0.0        0.0  0.0   0.0   0.0   \n",
      "2  0.000000     0.0  0.000000        0.0        0.0  0.0   0.0   0.0   \n",
      "3  0.000000     0.0  0.000000        0.0        0.0  0.0   0.0   0.0   \n",
      "4  0.187449     0.0  0.000000        0.0        0.0  0.0   0.0   0.0   \n",
      "\n",
      "        fun      game  ...  story    things    think  time  use   ve  want  \\\n",
      "0  0.000000  0.108531  ...    0.0  0.562994  0.00000   0.0  0.0  0.0   0.0   \n",
      "1  0.699941  0.190865  ...    0.0  0.000000  0.00000   0.0  0.0  0.0   0.0   \n",
      "2  0.000000  0.000000  ...    0.0  0.000000  0.00000   0.0  0.0  0.0   0.0   \n",
      "3  0.000000  0.000000  ...    0.0  0.000000  0.00000   0.0  0.0  0.0   0.0   \n",
      "4  0.000000  0.375142  ...    0.0  0.000000  0.18524   0.0  0.0  0.0   0.0   \n",
      "\n",
      "        way  work     worth  \n",
      "0  0.245900   0.0  0.000000  \n",
      "1  0.000000   0.0  0.000000  \n",
      "2  0.000000   0.0  0.000000  \n",
      "3  0.000000   0.0  0.000000  \n",
      "4  0.169994   0.0  0.176715  \n",
      "\n",
      "[5 rows x 50 columns]\n"
     ]
    }
   ],
   "source": [
    "X = pd.DataFrame(X_txt.toarray(), columns=vectorizer.get_feature_names())\n",
    "print('Top 5 rows of the DataFrame: ', X.head())"
   ]
  },
  {
   "cell_type": "code",
   "execution_count": null,
   "metadata": {},
   "outputs": [],
   "source": []
  }
 ],
 "metadata": {
  "kernelspec": {
   "display_name": "Python 3",
   "language": "python",
   "name": "python3"
  },
  "language_info": {
   "codemirror_mode": {
    "name": "ipython",
    "version": 3
   },
   "file_extension": ".py",
   "mimetype": "text/x-python",
   "name": "python",
   "nbconvert_exporter": "python",
   "pygments_lexer": "ipython3",
   "version": "3.8.13"
  }
 },
 "nbformat": 4,
 "nbformat_minor": 4
}
